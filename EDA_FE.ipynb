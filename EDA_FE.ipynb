{
 "cells": [
  {
   "cell_type": "code",
   "execution_count": 1,
   "metadata": {},
   "outputs": [],
   "source": [
    "import numpy as np \n",
    "import pandas as pd \n",
    "import seaborn as sns \n",
    "from sklearn.metrics import mean_squared_error, mean_absolute_error, r2_score\n",
    "from sklearn.linear_model import LinearRegression, Ridge, Lasso, ElasticNet, LogisticRegression\n",
    "from sklearn.preprocessing import StandardScaler\n",
    "from sklearn.model_selection import train_test_split\n",
    "import matplotlib.pyplot as plt \n",
    "import warnings \n",
    "import pickle\n",
    "warnings.simplefilter(action='ignore', category=FutureWarning)\n",
    "%matplotlib inline"
   ]
  },
  {
   "cell_type": "code",
   "execution_count": 2,
   "metadata": {},
   "outputs": [],
   "source": [
    "data = pd.read_csv(\"./data/household_power_consumption.txt\", sep=\";\",parse_dates={'datetime' : ['Date', 'Time']}, infer_datetime_format=True, low_memory=False, na_values=['nan','?'],index_col='datetime')\n",
    "df = data.sample(n=15000, random_state=42)\n",
    "# df.drop('index', axis=1, inplace=True)"
   ]
  },
  {
   "cell_type": "code",
   "execution_count": 3,
   "metadata": {},
   "outputs": [
    {
     "name": "stdout",
     "output_type": "stream",
     "text": [
      "<class 'pandas.core.frame.DataFrame'>\n",
      "DatetimeIndex: 15000 entries, 2010-07-07 18:10:00 to 2009-07-24 14:04:00\n",
      "Data columns (total 7 columns):\n",
      " #   Column                 Non-Null Count  Dtype  \n",
      "---  ------                 --------------  -----  \n",
      " 0   Global_active_power    14803 non-null  float64\n",
      " 1   Global_reactive_power  14803 non-null  float64\n",
      " 2   Voltage                14803 non-null  float64\n",
      " 3   Global_intensity       14803 non-null  float64\n",
      " 4   Sub_metering_1         14803 non-null  float64\n",
      " 5   Sub_metering_2         14803 non-null  float64\n",
      " 6   Sub_metering_3         14803 non-null  float64\n",
      "dtypes: float64(7)\n",
      "memory usage: 937.5 KB\n"
     ]
    }
   ],
   "source": [
    "df.info()"
   ]
  },
  {
   "cell_type": "code",
   "execution_count": 4,
   "metadata": {},
   "outputs": [
    {
     "data": {
      "text/html": [
       "<div>\n",
       "<style scoped>\n",
       "    .dataframe tbody tr th:only-of-type {\n",
       "        vertical-align: middle;\n",
       "    }\n",
       "\n",
       "    .dataframe tbody tr th {\n",
       "        vertical-align: top;\n",
       "    }\n",
       "\n",
       "    .dataframe thead th {\n",
       "        text-align: right;\n",
       "    }\n",
       "</style>\n",
       "<table border=\"1\" class=\"dataframe\">\n",
       "  <thead>\n",
       "    <tr style=\"text-align: right;\">\n",
       "      <th></th>\n",
       "      <th>Global_active_power</th>\n",
       "      <th>Global_reactive_power</th>\n",
       "      <th>Voltage</th>\n",
       "      <th>Global_intensity</th>\n",
       "      <th>Sub_metering_1</th>\n",
       "      <th>Sub_metering_2</th>\n",
       "      <th>Sub_metering_3</th>\n",
       "      <th>time</th>\n",
       "      <th>date</th>\n",
       "    </tr>\n",
       "    <tr>\n",
       "      <th>datetime</th>\n",
       "      <th></th>\n",
       "      <th></th>\n",
       "      <th></th>\n",
       "      <th></th>\n",
       "      <th></th>\n",
       "      <th></th>\n",
       "      <th></th>\n",
       "      <th></th>\n",
       "      <th></th>\n",
       "    </tr>\n",
       "  </thead>\n",
       "  <tbody>\n",
       "    <tr>\n",
       "      <th>2006-12-16 17:44:00</th>\n",
       "      <td>5.894</td>\n",
       "      <td>0.000</td>\n",
       "      <td>232.69</td>\n",
       "      <td>25.4</td>\n",
       "      <td>0.0</td>\n",
       "      <td>0.0</td>\n",
       "      <td>16.0</td>\n",
       "      <td>17:44:00</td>\n",
       "      <td>2006-12-16</td>\n",
       "    </tr>\n",
       "    <tr>\n",
       "      <th>2006-12-16 18:22:00</th>\n",
       "      <td>2.934</td>\n",
       "      <td>0.000</td>\n",
       "      <td>235.51</td>\n",
       "      <td>12.4</td>\n",
       "      <td>0.0</td>\n",
       "      <td>1.0</td>\n",
       "      <td>17.0</td>\n",
       "      <td>18:22:00</td>\n",
       "      <td>2006-12-16</td>\n",
       "    </tr>\n",
       "    <tr>\n",
       "      <th>2006-12-16 20:41:00</th>\n",
       "      <td>3.254</td>\n",
       "      <td>0.074</td>\n",
       "      <td>234.43</td>\n",
       "      <td>13.8</td>\n",
       "      <td>0.0</td>\n",
       "      <td>0.0</td>\n",
       "      <td>17.0</td>\n",
       "      <td>20:41:00</td>\n",
       "      <td>2006-12-16</td>\n",
       "    </tr>\n",
       "    <tr>\n",
       "      <th>2006-12-16 22:52:00</th>\n",
       "      <td>0.754</td>\n",
       "      <td>0.086</td>\n",
       "      <td>241.27</td>\n",
       "      <td>4.4</td>\n",
       "      <td>0.0</td>\n",
       "      <td>0.0</td>\n",
       "      <td>0.0</td>\n",
       "      <td>22:52:00</td>\n",
       "      <td>2006-12-16</td>\n",
       "    </tr>\n",
       "    <tr>\n",
       "      <th>2006-12-17 00:32:00</th>\n",
       "      <td>2.376</td>\n",
       "      <td>0.056</td>\n",
       "      <td>241.86</td>\n",
       "      <td>9.8</td>\n",
       "      <td>0.0</td>\n",
       "      <td>0.0</td>\n",
       "      <td>0.0</td>\n",
       "      <td>00:32:00</td>\n",
       "      <td>2006-12-17</td>\n",
       "    </tr>\n",
       "    <tr>\n",
       "      <th>...</th>\n",
       "      <td>...</td>\n",
       "      <td>...</td>\n",
       "      <td>...</td>\n",
       "      <td>...</td>\n",
       "      <td>...</td>\n",
       "      <td>...</td>\n",
       "      <td>...</td>\n",
       "      <td>...</td>\n",
       "      <td>...</td>\n",
       "    </tr>\n",
       "    <tr>\n",
       "      <th>2010-11-25 20:32:00</th>\n",
       "      <td>1.426</td>\n",
       "      <td>0.000</td>\n",
       "      <td>241.32</td>\n",
       "      <td>6.0</td>\n",
       "      <td>0.0</td>\n",
       "      <td>0.0</td>\n",
       "      <td>0.0</td>\n",
       "      <td>20:32:00</td>\n",
       "      <td>2010-11-25</td>\n",
       "    </tr>\n",
       "    <tr>\n",
       "      <th>2010-11-26 07:44:00</th>\n",
       "      <td>2.848</td>\n",
       "      <td>0.286</td>\n",
       "      <td>237.52</td>\n",
       "      <td>12.0</td>\n",
       "      <td>0.0</td>\n",
       "      <td>2.0</td>\n",
       "      <td>17.0</td>\n",
       "      <td>07:44:00</td>\n",
       "      <td>2010-11-26</td>\n",
       "    </tr>\n",
       "    <tr>\n",
       "      <th>2010-11-26 11:00:00</th>\n",
       "      <td>1.242</td>\n",
       "      <td>0.064</td>\n",
       "      <td>236.71</td>\n",
       "      <td>5.2</td>\n",
       "      <td>0.0</td>\n",
       "      <td>0.0</td>\n",
       "      <td>17.0</td>\n",
       "      <td>11:00:00</td>\n",
       "      <td>2010-11-26</td>\n",
       "    </tr>\n",
       "    <tr>\n",
       "      <th>2010-11-26 15:27:00</th>\n",
       "      <td>1.274</td>\n",
       "      <td>0.058</td>\n",
       "      <td>239.85</td>\n",
       "      <td>5.2</td>\n",
       "      <td>0.0</td>\n",
       "      <td>0.0</td>\n",
       "      <td>18.0</td>\n",
       "      <td>15:27:00</td>\n",
       "      <td>2010-11-26</td>\n",
       "    </tr>\n",
       "    <tr>\n",
       "      <th>2010-11-26 16:54:00</th>\n",
       "      <td>1.910</td>\n",
       "      <td>0.402</td>\n",
       "      <td>237.10</td>\n",
       "      <td>9.2</td>\n",
       "      <td>0.0</td>\n",
       "      <td>0.0</td>\n",
       "      <td>0.0</td>\n",
       "      <td>16:54:00</td>\n",
       "      <td>2010-11-26</td>\n",
       "    </tr>\n",
       "  </tbody>\n",
       "</table>\n",
       "<p>15000 rows × 9 columns</p>\n",
       "</div>"
      ],
      "text/plain": [
       "                     Global_active_power  Global_reactive_power  Voltage  \\\n",
       "datetime                                                                   \n",
       "2006-12-16 17:44:00                5.894                  0.000   232.69   \n",
       "2006-12-16 18:22:00                2.934                  0.000   235.51   \n",
       "2006-12-16 20:41:00                3.254                  0.074   234.43   \n",
       "2006-12-16 22:52:00                0.754                  0.086   241.27   \n",
       "2006-12-17 00:32:00                2.376                  0.056   241.86   \n",
       "...                                  ...                    ...      ...   \n",
       "2010-11-25 20:32:00                1.426                  0.000   241.32   \n",
       "2010-11-26 07:44:00                2.848                  0.286   237.52   \n",
       "2010-11-26 11:00:00                1.242                  0.064   236.71   \n",
       "2010-11-26 15:27:00                1.274                  0.058   239.85   \n",
       "2010-11-26 16:54:00                1.910                  0.402   237.10   \n",
       "\n",
       "                     Global_intensity  Sub_metering_1  Sub_metering_2  \\\n",
       "datetime                                                                \n",
       "2006-12-16 17:44:00              25.4             0.0             0.0   \n",
       "2006-12-16 18:22:00              12.4             0.0             1.0   \n",
       "2006-12-16 20:41:00              13.8             0.0             0.0   \n",
       "2006-12-16 22:52:00               4.4             0.0             0.0   \n",
       "2006-12-17 00:32:00               9.8             0.0             0.0   \n",
       "...                               ...             ...             ...   \n",
       "2010-11-25 20:32:00               6.0             0.0             0.0   \n",
       "2010-11-26 07:44:00              12.0             0.0             2.0   \n",
       "2010-11-26 11:00:00               5.2             0.0             0.0   \n",
       "2010-11-26 15:27:00               5.2             0.0             0.0   \n",
       "2010-11-26 16:54:00               9.2             0.0             0.0   \n",
       "\n",
       "                     Sub_metering_3      time        date  \n",
       "datetime                                                   \n",
       "2006-12-16 17:44:00            16.0  17:44:00  2006-12-16  \n",
       "2006-12-16 18:22:00            17.0  18:22:00  2006-12-16  \n",
       "2006-12-16 20:41:00            17.0  20:41:00  2006-12-16  \n",
       "2006-12-16 22:52:00             0.0  22:52:00  2006-12-16  \n",
       "2006-12-17 00:32:00             0.0  00:32:00  2006-12-17  \n",
       "...                             ...       ...         ...  \n",
       "2010-11-25 20:32:00             0.0  20:32:00  2010-11-25  \n",
       "2010-11-26 07:44:00            17.0  07:44:00  2010-11-26  \n",
       "2010-11-26 11:00:00            17.0  11:00:00  2010-11-26  \n",
       "2010-11-26 15:27:00            18.0  15:27:00  2010-11-26  \n",
       "2010-11-26 16:54:00             0.0  16:54:00  2010-11-26  \n",
       "\n",
       "[15000 rows x 9 columns]"
      ]
     },
     "execution_count": 4,
     "metadata": {},
     "output_type": "execute_result"
    }
   ],
   "source": [
    "df['time'] = df.index.time\n",
    "df['date'] = df.index.date\n",
    "\n",
    "df.sort_values(by=['date','time'])\n",
    "\n"
   ]
  },
  {
   "cell_type": "code",
   "execution_count": 7,
   "metadata": {},
   "outputs": [],
   "source": [
    "df.drop(['date','time'], axis=1, inplace=True)\n",
    "\n",
    "for column in df.columns:\n",
    "    if df[column].isnull().sum() > 0:\n",
    "        df[column] = df[column].fillna(df[column].mean())\n",
    "\n"
   ]
  },
  {
   "cell_type": "code",
   "execution_count": 8,
   "metadata": {},
   "outputs": [
    {
     "data": {
      "text/html": [
       "<div>\n",
       "<style scoped>\n",
       "    .dataframe tbody tr th:only-of-type {\n",
       "        vertical-align: middle;\n",
       "    }\n",
       "\n",
       "    .dataframe tbody tr th {\n",
       "        vertical-align: top;\n",
       "    }\n",
       "\n",
       "    .dataframe thead th {\n",
       "        text-align: right;\n",
       "    }\n",
       "</style>\n",
       "<table border=\"1\" class=\"dataframe\">\n",
       "  <thead>\n",
       "    <tr style=\"text-align: right;\">\n",
       "      <th></th>\n",
       "      <th>Global_active_power</th>\n",
       "      <th>Global_reactive_power</th>\n",
       "      <th>Voltage</th>\n",
       "      <th>Global_intensity</th>\n",
       "      <th>Sub_metering_1</th>\n",
       "      <th>Sub_metering_2</th>\n",
       "      <th>Sub_metering_3</th>\n",
       "      <th>Power_Consumption</th>\n",
       "    </tr>\n",
       "    <tr>\n",
       "      <th>datetime</th>\n",
       "      <th></th>\n",
       "      <th></th>\n",
       "      <th></th>\n",
       "      <th></th>\n",
       "      <th></th>\n",
       "      <th></th>\n",
       "      <th></th>\n",
       "      <th></th>\n",
       "    </tr>\n",
       "  </thead>\n",
       "  <tbody>\n",
       "    <tr>\n",
       "      <th>2010-07-07 18:10:00</th>\n",
       "      <td>0.256</td>\n",
       "      <td>0.106</td>\n",
       "      <td>242.00</td>\n",
       "      <td>1.2</td>\n",
       "      <td>0.0</td>\n",
       "      <td>0.0</td>\n",
       "      <td>1.0</td>\n",
       "      <td>3.266667</td>\n",
       "    </tr>\n",
       "    <tr>\n",
       "      <th>2007-05-14 06:50:00</th>\n",
       "      <td>0.466</td>\n",
       "      <td>0.352</td>\n",
       "      <td>237.22</td>\n",
       "      <td>2.4</td>\n",
       "      <td>0.0</td>\n",
       "      <td>2.0</td>\n",
       "      <td>0.0</td>\n",
       "      <td>5.766667</td>\n",
       "    </tr>\n",
       "    <tr>\n",
       "      <th>2007-09-26 18:10:00</th>\n",
       "      <td>0.758</td>\n",
       "      <td>0.194</td>\n",
       "      <td>238.66</td>\n",
       "      <td>3.2</td>\n",
       "      <td>0.0</td>\n",
       "      <td>1.0</td>\n",
       "      <td>0.0</td>\n",
       "      <td>11.633333</td>\n",
       "    </tr>\n",
       "    <tr>\n",
       "      <th>2007-06-19 07:30:00</th>\n",
       "      <td>1.290</td>\n",
       "      <td>0.046</td>\n",
       "      <td>240.64</td>\n",
       "      <td>5.4</td>\n",
       "      <td>1.0</td>\n",
       "      <td>0.0</td>\n",
       "      <td>18.0</td>\n",
       "      <td>2.500000</td>\n",
       "    </tr>\n",
       "    <tr>\n",
       "      <th>2010-05-10 04:43:00</th>\n",
       "      <td>0.428</td>\n",
       "      <td>0.202</td>\n",
       "      <td>242.23</td>\n",
       "      <td>1.8</td>\n",
       "      <td>0.0</td>\n",
       "      <td>2.0</td>\n",
       "      <td>1.0</td>\n",
       "      <td>4.133333</td>\n",
       "    </tr>\n",
       "  </tbody>\n",
       "</table>\n",
       "</div>"
      ],
      "text/plain": [
       "                     Global_active_power  Global_reactive_power  Voltage  \\\n",
       "datetime                                                                   \n",
       "2010-07-07 18:10:00                0.256                  0.106   242.00   \n",
       "2007-05-14 06:50:00                0.466                  0.352   237.22   \n",
       "2007-09-26 18:10:00                0.758                  0.194   238.66   \n",
       "2007-06-19 07:30:00                1.290                  0.046   240.64   \n",
       "2010-05-10 04:43:00                0.428                  0.202   242.23   \n",
       "\n",
       "                     Global_intensity  Sub_metering_1  Sub_metering_2  \\\n",
       "datetime                                                                \n",
       "2010-07-07 18:10:00               1.2             0.0             0.0   \n",
       "2007-05-14 06:50:00               2.4             0.0             2.0   \n",
       "2007-09-26 18:10:00               3.2             0.0             1.0   \n",
       "2007-06-19 07:30:00               5.4             1.0             0.0   \n",
       "2010-05-10 04:43:00               1.8             0.0             2.0   \n",
       "\n",
       "                     Sub_metering_3  Power_Consumption  \n",
       "datetime                                                \n",
       "2010-07-07 18:10:00             1.0           3.266667  \n",
       "2007-05-14 06:50:00             0.0           5.766667  \n",
       "2007-09-26 18:10:00             0.0          11.633333  \n",
       "2007-06-19 07:30:00            18.0           2.500000  \n",
       "2010-05-10 04:43:00             1.0           4.133333  "
      ]
     },
     "execution_count": 8,
     "metadata": {},
     "output_type": "execute_result"
    }
   ],
   "source": [
    "eq1 = (df['Global_active_power']*1000/60)\n",
    "eq2 = df['Sub_metering_1']+df['Sub_metering_2']+df['Sub_metering_3']\n",
    "\n",
    "df['Power_Consumption'] = eq1 - eq2\n",
    "\n",
    "df.head()"
   ]
  },
  {
   "cell_type": "code",
   "execution_count": 9,
   "metadata": {},
   "outputs": [],
   "source": [
    "scaler = StandardScaler()\n",
    "X = df.drop('Power_Consumption', axis=1)\n",
    "y = df['Power_Consumption']"
   ]
  },
  {
   "cell_type": "code",
   "execution_count": 10,
   "metadata": {},
   "outputs": [],
   "source": [
    "X_train, X_test, y_train, y_test = train_test_split(X,y, test_size=0.33, random_state=42)\n"
   ]
  },
  {
   "cell_type": "code",
   "execution_count": 11,
   "metadata": {},
   "outputs": [],
   "source": [
    "X_train = scaler.fit_transform(X_train)\n",
    "X_test = scaler.transform(X_test)"
   ]
  },
  {
   "cell_type": "code",
   "execution_count": 12,
   "metadata": {},
   "outputs": [
    {
     "data": {
      "text/plain": [
       "LinearRegression()"
      ]
     },
     "execution_count": 12,
     "metadata": {},
     "output_type": "execute_result"
    }
   ],
   "source": [
    "linreg = LinearRegression()\n",
    "linreg.fit(X_train, y_train)"
   ]
  },
  {
   "cell_type": "code",
   "execution_count": 13,
   "metadata": {},
   "outputs": [
    {
     "name": "stdout",
     "output_type": "stream",
     "text": [
      "9.41148970520408\n"
     ]
    }
   ],
   "source": [
    "print(linreg.intercept_)"
   ]
  },
  {
   "cell_type": "code",
   "execution_count": 14,
   "metadata": {},
   "outputs": [],
   "source": [
    "linreg_pred = linreg.predict(X_test)\n"
   ]
  },
  {
   "cell_type": "code",
   "execution_count": 15,
   "metadata": {},
   "outputs": [
    {
     "name": "stdout",
     "output_type": "stream",
     "text": [
      "Mean Squared Error:5.704470341609371e-29\n",
      "Mean Absolute Error:6.1081555077639724e-15\n",
      "RMSE : 7.55279441108347e-15\n"
     ]
    }
   ],
   "source": [
    "print(f\"Mean Squared Error:{mean_squared_error(y_test,linreg_pred)}\")\n",
    "print(f\"Mean Absolute Error:{mean_absolute_error(y_test,linreg_pred)}\")\n",
    "print(f\"RMSE : {np.sqrt(mean_squared_error(y_test,linreg_pred))}\")"
   ]
  },
  {
   "cell_type": "code",
   "execution_count": 16,
   "metadata": {},
   "outputs": [
    {
     "name": "stdout",
     "output_type": "stream",
     "text": [
      "1.0\n"
     ]
    }
   ],
   "source": [
    "score = r2_score(y_test, linreg_pred)\n",
    "print(score)"
   ]
  },
  {
   "cell_type": "code",
   "execution_count": 17,
   "metadata": {},
   "outputs": [
    {
     "data": {
      "text/plain": [
       "1.0"
      ]
     },
     "execution_count": 17,
     "metadata": {},
     "output_type": "execute_result"
    }
   ],
   "source": [
    "1 - (1-score) * (len(y_test)-1) / (len(y_test)-X_test.shape[1]-1)"
   ]
  },
  {
   "cell_type": "code",
   "execution_count": null,
   "metadata": {},
   "outputs": [],
   "source": []
  },
  {
   "cell_type": "code",
   "execution_count": null,
   "metadata": {},
   "outputs": [],
   "source": []
  },
  {
   "cell_type": "code",
   "execution_count": null,
   "metadata": {},
   "outputs": [],
   "source": []
  },
  {
   "cell_type": "code",
   "execution_count": null,
   "metadata": {},
   "outputs": [],
   "source": []
  },
  {
   "cell_type": "code",
   "execution_count": null,
   "metadata": {},
   "outputs": [],
   "source": []
  }
 ],
 "metadata": {
  "kernelspec": {
   "display_name": "base",
   "language": "python",
   "name": "python3"
  },
  "language_info": {
   "codemirror_mode": {
    "name": "ipython",
    "version": 3
   },
   "file_extension": ".py",
   "mimetype": "text/x-python",
   "name": "python",
   "nbconvert_exporter": "python",
   "pygments_lexer": "ipython3",
   "version": "3.9.12"
  },
  "orig_nbformat": 4
 },
 "nbformat": 4,
 "nbformat_minor": 2
}
