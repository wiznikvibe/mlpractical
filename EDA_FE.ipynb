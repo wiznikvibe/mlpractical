{
 "cells": [
  {
   "cell_type": "code",
   "execution_count": 1,
   "metadata": {},
   "outputs": [],
   "source": [
    "import numpy as np \n",
    "import pandas as pd \n",
    "import seaborn as sns \n",
    "from sklearn.metrics import mean_squared_error, mean_absolute_error, r2_score\n",
    "from sklearn.linear_model import LinearRegression, Ridge, Lasso, ElasticNet, LogisticRegression\n",
    "from sklearn.preprocessing import StandardScaler\n",
    "from sklearn.model_selection import train_test_split\n",
    "import matplotlib.pyplot as plt \n",
    "import warnings \n",
    "import pickle\n",
    "warnings.simplefilter(action='ignore', category=FutureWarning)\n",
    "%matplotlib inline"
   ]
  },
  {
   "cell_type": "code",
   "execution_count": 2,
   "metadata": {},
   "outputs": [],
   "source": [
    "data = pd.read_csv(\"./data/household_power_consumption.txt\", sep=\";\",parse_dates={'datetime' : ['Date', 'Time']}, infer_datetime_format=True, low_memory=False, na_values=['nan','?'],index_col='datetime')\n",
    "df = data.sample(n=15000, random_state=42)\n",
    "# df.drop('index', axis=1, inplace=True)"
   ]
  },
  {
   "cell_type": "code",
   "execution_count": 3,
   "metadata": {},
   "outputs": [
    {
     "name": "stdout",
     "output_type": "stream",
     "text": [
      "<class 'pandas.core.frame.DataFrame'>\n",
      "DatetimeIndex: 15000 entries, 2010-07-07 18:10:00 to 2009-07-24 14:04:00\n",
      "Data columns (total 7 columns):\n",
      " #   Column                 Non-Null Count  Dtype  \n",
      "---  ------                 --------------  -----  \n",
      " 0   Global_active_power    14803 non-null  float64\n",
      " 1   Global_reactive_power  14803 non-null  float64\n",
      " 2   Voltage                14803 non-null  float64\n",
      " 3   Global_intensity       14803 non-null  float64\n",
      " 4   Sub_metering_1         14803 non-null  float64\n",
      " 5   Sub_metering_2         14803 non-null  float64\n",
      " 6   Sub_metering_3         14803 non-null  float64\n",
      "dtypes: float64(7)\n",
      "memory usage: 937.5 KB\n"
     ]
    }
   ],
   "source": [
    "df.info()"
   ]
  },
  {
   "cell_type": "code",
   "execution_count": 4,
   "metadata": {},
   "outputs": [
    {
     "data": {
      "text/plain": [
       "Global_active_power      197\n",
       "Global_reactive_power    197\n",
       "Voltage                  197\n",
       "Global_intensity         197\n",
       "Sub_metering_1           197\n",
       "Sub_metering_2           197\n",
       "Sub_metering_3           197\n",
       "dtype: int64"
      ]
     },
     "execution_count": 4,
     "metadata": {},
     "output_type": "execute_result"
    }
   ],
   "source": [
    "df.isnull().sum()"
   ]
  },
  {
   "cell_type": "code",
   "execution_count": 5,
   "metadata": {},
   "outputs": [
    {
     "data": {
      "text/plain": [
       "Global_active_power      0\n",
       "Global_reactive_power    0\n",
       "Voltage                  0\n",
       "Global_intensity         0\n",
       "Sub_metering_1           0\n",
       "Sub_metering_2           0\n",
       "Sub_metering_3           0\n",
       "dtype: int64"
      ]
     },
     "execution_count": 5,
     "metadata": {},
     "output_type": "execute_result"
    }
   ],
   "source": [
    "for column in df.columns:\n",
    "    if df[column].isnull().sum() > 0:\n",
    "        df[column] = df[column].fillna(df[column].mean())\n",
    "\n",
    "df.isnull().sum()"
   ]
  },
  {
   "cell_type": "code",
   "execution_count": 10,
   "metadata": {},
   "outputs": [
    {
     "data": {
      "text/html": [
       "<div>\n",
       "<style scoped>\n",
       "    .dataframe tbody tr th:only-of-type {\n",
       "        vertical-align: middle;\n",
       "    }\n",
       "\n",
       "    .dataframe tbody tr th {\n",
       "        vertical-align: top;\n",
       "    }\n",
       "\n",
       "    .dataframe thead th {\n",
       "        text-align: right;\n",
       "    }\n",
       "</style>\n",
       "<table border=\"1\" class=\"dataframe\">\n",
       "  <thead>\n",
       "    <tr style=\"text-align: right;\">\n",
       "      <th></th>\n",
       "      <th>Global_active_power</th>\n",
       "      <th>Global_reactive_power</th>\n",
       "      <th>Voltage</th>\n",
       "      <th>Global_intensity</th>\n",
       "      <th>Sub_metering_1</th>\n",
       "      <th>Sub_metering_2</th>\n",
       "      <th>Sub_metering_3</th>\n",
       "    </tr>\n",
       "    <tr>\n",
       "      <th>datetime</th>\n",
       "      <th></th>\n",
       "      <th></th>\n",
       "      <th></th>\n",
       "      <th></th>\n",
       "      <th></th>\n",
       "      <th></th>\n",
       "      <th></th>\n",
       "    </tr>\n",
       "  </thead>\n",
       "  <tbody>\n",
       "    <tr>\n",
       "      <th>2010-07-07 18:10:00</th>\n",
       "      <td>0.256</td>\n",
       "      <td>0.106</td>\n",
       "      <td>242.00</td>\n",
       "      <td>1.2</td>\n",
       "      <td>0.0</td>\n",
       "      <td>0.0</td>\n",
       "      <td>1.0</td>\n",
       "    </tr>\n",
       "    <tr>\n",
       "      <th>2007-05-14 06:50:00</th>\n",
       "      <td>0.466</td>\n",
       "      <td>0.352</td>\n",
       "      <td>237.22</td>\n",
       "      <td>2.4</td>\n",
       "      <td>0.0</td>\n",
       "      <td>2.0</td>\n",
       "      <td>0.0</td>\n",
       "    </tr>\n",
       "    <tr>\n",
       "      <th>2007-09-26 18:10:00</th>\n",
       "      <td>0.758</td>\n",
       "      <td>0.194</td>\n",
       "      <td>238.66</td>\n",
       "      <td>3.2</td>\n",
       "      <td>0.0</td>\n",
       "      <td>1.0</td>\n",
       "      <td>0.0</td>\n",
       "    </tr>\n",
       "    <tr>\n",
       "      <th>2007-06-19 07:30:00</th>\n",
       "      <td>1.290</td>\n",
       "      <td>0.046</td>\n",
       "      <td>240.64</td>\n",
       "      <td>5.4</td>\n",
       "      <td>1.0</td>\n",
       "      <td>0.0</td>\n",
       "      <td>18.0</td>\n",
       "    </tr>\n",
       "    <tr>\n",
       "      <th>2010-05-10 04:43:00</th>\n",
       "      <td>0.428</td>\n",
       "      <td>0.202</td>\n",
       "      <td>242.23</td>\n",
       "      <td>1.8</td>\n",
       "      <td>0.0</td>\n",
       "      <td>2.0</td>\n",
       "      <td>1.0</td>\n",
       "    </tr>\n",
       "  </tbody>\n",
       "</table>\n",
       "</div>"
      ],
      "text/plain": [
       "                     Global_active_power  Global_reactive_power  Voltage  \\\n",
       "datetime                                                                   \n",
       "2010-07-07 18:10:00                0.256                  0.106   242.00   \n",
       "2007-05-14 06:50:00                0.466                  0.352   237.22   \n",
       "2007-09-26 18:10:00                0.758                  0.194   238.66   \n",
       "2007-06-19 07:30:00                1.290                  0.046   240.64   \n",
       "2010-05-10 04:43:00                0.428                  0.202   242.23   \n",
       "\n",
       "                     Global_intensity  Sub_metering_1  Sub_metering_2  \\\n",
       "datetime                                                                \n",
       "2010-07-07 18:10:00               1.2             0.0             0.0   \n",
       "2007-05-14 06:50:00               2.4             0.0             2.0   \n",
       "2007-09-26 18:10:00               3.2             0.0             1.0   \n",
       "2007-06-19 07:30:00               5.4             1.0             0.0   \n",
       "2010-05-10 04:43:00               1.8             0.0             2.0   \n",
       "\n",
       "                     Sub_metering_3  \n",
       "datetime                             \n",
       "2010-07-07 18:10:00             1.0  \n",
       "2007-05-14 06:50:00             0.0  \n",
       "2007-09-26 18:10:00             0.0  \n",
       "2007-06-19 07:30:00            18.0  \n",
       "2010-05-10 04:43:00             1.0  "
      ]
     },
     "execution_count": 10,
     "metadata": {},
     "output_type": "execute_result"
    }
   ],
   "source": [
    "df.head() \n",
    "\n"
   ]
  },
  {
   "cell_type": "code",
   "execution_count": 11,
   "metadata": {},
   "outputs": [
    {
     "data": {
      "text/html": [
       "<div>\n",
       "<style scoped>\n",
       "    .dataframe tbody tr th:only-of-type {\n",
       "        vertical-align: middle;\n",
       "    }\n",
       "\n",
       "    .dataframe tbody tr th {\n",
       "        vertical-align: top;\n",
       "    }\n",
       "\n",
       "    .dataframe thead th {\n",
       "        text-align: right;\n",
       "    }\n",
       "</style>\n",
       "<table border=\"1\" class=\"dataframe\">\n",
       "  <thead>\n",
       "    <tr style=\"text-align: right;\">\n",
       "      <th></th>\n",
       "      <th>Global_active_power</th>\n",
       "      <th>Global_reactive_power</th>\n",
       "      <th>Voltage</th>\n",
       "      <th>Global_intensity</th>\n",
       "      <th>Sub_metering_1</th>\n",
       "      <th>Sub_metering_2</th>\n",
       "      <th>Sub_metering_3</th>\n",
       "      <th>Power_Consumption</th>\n",
       "    </tr>\n",
       "    <tr>\n",
       "      <th>datetime</th>\n",
       "      <th></th>\n",
       "      <th></th>\n",
       "      <th></th>\n",
       "      <th></th>\n",
       "      <th></th>\n",
       "      <th></th>\n",
       "      <th></th>\n",
       "      <th></th>\n",
       "    </tr>\n",
       "  </thead>\n",
       "  <tbody>\n",
       "    <tr>\n",
       "      <th>2010-07-07 18:10:00</th>\n",
       "      <td>0.256</td>\n",
       "      <td>0.106</td>\n",
       "      <td>242.00</td>\n",
       "      <td>1.2</td>\n",
       "      <td>0.0</td>\n",
       "      <td>0.0</td>\n",
       "      <td>1.0</td>\n",
       "      <td>3.266667</td>\n",
       "    </tr>\n",
       "    <tr>\n",
       "      <th>2007-05-14 06:50:00</th>\n",
       "      <td>0.466</td>\n",
       "      <td>0.352</td>\n",
       "      <td>237.22</td>\n",
       "      <td>2.4</td>\n",
       "      <td>0.0</td>\n",
       "      <td>2.0</td>\n",
       "      <td>0.0</td>\n",
       "      <td>5.766667</td>\n",
       "    </tr>\n",
       "    <tr>\n",
       "      <th>2007-09-26 18:10:00</th>\n",
       "      <td>0.758</td>\n",
       "      <td>0.194</td>\n",
       "      <td>238.66</td>\n",
       "      <td>3.2</td>\n",
       "      <td>0.0</td>\n",
       "      <td>1.0</td>\n",
       "      <td>0.0</td>\n",
       "      <td>11.633333</td>\n",
       "    </tr>\n",
       "    <tr>\n",
       "      <th>2007-06-19 07:30:00</th>\n",
       "      <td>1.290</td>\n",
       "      <td>0.046</td>\n",
       "      <td>240.64</td>\n",
       "      <td>5.4</td>\n",
       "      <td>1.0</td>\n",
       "      <td>0.0</td>\n",
       "      <td>18.0</td>\n",
       "      <td>2.500000</td>\n",
       "    </tr>\n",
       "    <tr>\n",
       "      <th>2010-05-10 04:43:00</th>\n",
       "      <td>0.428</td>\n",
       "      <td>0.202</td>\n",
       "      <td>242.23</td>\n",
       "      <td>1.8</td>\n",
       "      <td>0.0</td>\n",
       "      <td>2.0</td>\n",
       "      <td>1.0</td>\n",
       "      <td>4.133333</td>\n",
       "    </tr>\n",
       "  </tbody>\n",
       "</table>\n",
       "</div>"
      ],
      "text/plain": [
       "                     Global_active_power  Global_reactive_power  Voltage  \\\n",
       "datetime                                                                   \n",
       "2010-07-07 18:10:00                0.256                  0.106   242.00   \n",
       "2007-05-14 06:50:00                0.466                  0.352   237.22   \n",
       "2007-09-26 18:10:00                0.758                  0.194   238.66   \n",
       "2007-06-19 07:30:00                1.290                  0.046   240.64   \n",
       "2010-05-10 04:43:00                0.428                  0.202   242.23   \n",
       "\n",
       "                     Global_intensity  Sub_metering_1  Sub_metering_2  \\\n",
       "datetime                                                                \n",
       "2010-07-07 18:10:00               1.2             0.0             0.0   \n",
       "2007-05-14 06:50:00               2.4             0.0             2.0   \n",
       "2007-09-26 18:10:00               3.2             0.0             1.0   \n",
       "2007-06-19 07:30:00               5.4             1.0             0.0   \n",
       "2010-05-10 04:43:00               1.8             0.0             2.0   \n",
       "\n",
       "                     Sub_metering_3  Power_Consumption  \n",
       "datetime                                                \n",
       "2010-07-07 18:10:00             1.0           3.266667  \n",
       "2007-05-14 06:50:00             0.0           5.766667  \n",
       "2007-09-26 18:10:00             0.0          11.633333  \n",
       "2007-06-19 07:30:00            18.0           2.500000  \n",
       "2010-05-10 04:43:00             1.0           4.133333  "
      ]
     },
     "execution_count": 11,
     "metadata": {},
     "output_type": "execute_result"
    }
   ],
   "source": [
    "eq1 = (df['Global_active_power']*1000/60)\n",
    "eq2 = df['Sub_metering_1']+df['Sub_metering_2']+df['Sub_metering_3']\n",
    "\n",
    "df['Power_Consumption'] = eq1 - eq2\n",
    "\n",
    "df.head()"
   ]
  },
  {
   "cell_type": "code",
   "execution_count": 17,
   "metadata": {},
   "outputs": [],
   "source": [
    "scaler = StandardScaler()\n",
    "X = df.drop('Power_Consumption', axis=1)\n",
    "y = df['Power_Consumption']"
   ]
  },
  {
   "cell_type": "code",
   "execution_count": 18,
   "metadata": {},
   "outputs": [],
   "source": [
    "X_train, X_test, y_train, y_test = train_test_split(X,y, test_size=0.33, random_state=42)\n"
   ]
  },
  {
   "cell_type": "code",
   "execution_count": 19,
   "metadata": {},
   "outputs": [],
   "source": [
    "X_train = scaler.fit_transform(X_train)\n",
    "X_test = scaler.transform(X_test)"
   ]
  },
  {
   "cell_type": "code",
   "execution_count": 20,
   "metadata": {},
   "outputs": [
    {
     "data": {
      "text/plain": [
       "LinearRegression()"
      ]
     },
     "execution_count": 20,
     "metadata": {},
     "output_type": "execute_result"
    }
   ],
   "source": [
    "linreg = LinearRegression()\n",
    "linreg.fit(X_train, y_train)"
   ]
  },
  {
   "cell_type": "code",
   "execution_count": 22,
   "metadata": {},
   "outputs": [
    {
     "name": "stdout",
     "output_type": "stream",
     "text": [
      "9.19714997574942\n"
     ]
    }
   ],
   "source": [
    "print(linreg.intercept_)"
   ]
  },
  {
   "cell_type": "code",
   "execution_count": 25,
   "metadata": {},
   "outputs": [],
   "source": [
    "linreg_pred = linreg.predict(X_test)\n"
   ]
  },
  {
   "cell_type": "code",
   "execution_count": 26,
   "metadata": {},
   "outputs": [
    {
     "name": "stdout",
     "output_type": "stream",
     "text": [
      "Mean Squared Error:1.6228953173002127e-28\n",
      "Mean Absolute Error:9.075394052355949e-15\n",
      "RMSE : 1.2739290864487758e-14\n"
     ]
    }
   ],
   "source": [
    "print(f\"Mean Squared Error:{mean_squared_error(y_test,linreg_pred)}\")\n",
    "print(f\"Mean Absolute Error:{mean_absolute_error(y_test,linreg_pred)}\")\n",
    "print(f\"RMSE : {np.sqrt(mean_squared_error(y_test,linreg_pred))}\")"
   ]
  },
  {
   "cell_type": "code",
   "execution_count": 27,
   "metadata": {},
   "outputs": [
    {
     "name": "stdout",
     "output_type": "stream",
     "text": [
      "1.0\n"
     ]
    }
   ],
   "source": [
    "score = r2_score(y_test, linreg_pred)\n",
    "print(score)"
   ]
  },
  {
   "cell_type": "code",
   "execution_count": 28,
   "metadata": {},
   "outputs": [
    {
     "data": {
      "text/plain": [
       "1.0"
      ]
     },
     "execution_count": 28,
     "metadata": {},
     "output_type": "execute_result"
    }
   ],
   "source": [
    "1 - (1-score) * (len(y_test)-1) / (len(y_test)-X_test.shape[1]-1)"
   ]
  },
  {
   "cell_type": "code",
   "execution_count": null,
   "metadata": {},
   "outputs": [],
   "source": []
  },
  {
   "cell_type": "code",
   "execution_count": null,
   "metadata": {},
   "outputs": [],
   "source": []
  },
  {
   "cell_type": "code",
   "execution_count": null,
   "metadata": {},
   "outputs": [],
   "source": []
  },
  {
   "cell_type": "code",
   "execution_count": null,
   "metadata": {},
   "outputs": [],
   "source": []
  },
  {
   "cell_type": "code",
   "execution_count": null,
   "metadata": {},
   "outputs": [],
   "source": []
  }
 ],
 "metadata": {
  "kernelspec": {
   "display_name": "base",
   "language": "python",
   "name": "python3"
  },
  "language_info": {
   "codemirror_mode": {
    "name": "ipython",
    "version": 3
   },
   "file_extension": ".py",
   "mimetype": "text/x-python",
   "name": "python",
   "nbconvert_exporter": "python",
   "pygments_lexer": "ipython3",
   "version": "3.9.12"
  },
  "orig_nbformat": 4
 },
 "nbformat": 4,
 "nbformat_minor": 2
}
